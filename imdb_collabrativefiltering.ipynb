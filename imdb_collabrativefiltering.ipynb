{
 "cells": [
  {
   "cell_type": "code",
   "execution_count": 3,
   "metadata": {
    "scrolled": true
   },
   "outputs": [
    {
     "name": "stdout",
     "output_type": "stream",
     "text": [
      "CPU times: user 4.35 s, sys: 0 ns, total: 4.35 s\n",
      "Wall time: 4.35 s\n"
     ]
    }
   ],
   "source": [
    "%time for i in range(100000000): pass"
   ]
  },
  {
   "cell_type": "code",
   "execution_count": null,
   "metadata": {
    "collapsed": true
   },
   "outputs": [],
   "source": [
    "from IPython.display import YouTubeVideo,FileLink,FileLinks"
   ]
  },
  {
   "cell_type": "code",
   "execution_count": null,
   "metadata": {
    "collapsed": true
   },
   "outputs": [],
   "source": [
    "YouTubeVideo(\"no2dG9OlXZo\")"
   ]
  },
  {
   "cell_type": "code",
   "execution_count": null,
   "metadata": {
    "collapsed": true
   },
   "outputs": [],
   "source": [
    "FileLinks('./')"
   ]
  },
  {
   "cell_type": "code",
   "execution_count": 1,
   "metadata": {
    "collapsed": true
   },
   "outputs": [],
   "source": [
    "import numpy as np"
   ]
  },
  {
   "cell_type": "code",
   "execution_count": null,
   "metadata": {
    "collapsed": true
   },
   "outputs": [],
   "source": [
    "x = y = z = np.arange(0.0,5.0,1.0)\n",
    "np.savetxt('test1.csv', x, delimiter=',')   # X is an array\n",
    "np.savetxt('test2.out', (x,y,z))   # x,y,z equal sized 1D arrays\n",
    "np.savetxt('test3.out', x, fmt='%1.4e')   # use exponential notation"
   ]
  },
  {
   "cell_type": "code",
   "execution_count": null,
   "metadata": {
    "collapsed": true
   },
   "outputs": [],
   "source": [
    "x = np.array([[1,2],[3,4]])\n",
    "np.savetxt('test1.csv', x, delimiter=',')"
   ]
  },
  {
   "cell_type": "code",
   "execution_count": 2,
   "metadata": {},
   "outputs": [
    {
     "name": "stdout",
     "output_type": "stream",
     "text": [
      "0    a\n",
      "1    b\n",
      "2    c\n",
      "3    d\n",
      "dtype: object\n"
     ]
    }
   ],
   "source": [
    "import pandas as pd\n",
    "import numpy as np\n",
    "data = np.array(['a','b','c','d'])\n",
    "s = pd.Series(data)\n",
    "print(s)"
   ]
  },
  {
   "cell_type": "code",
   "execution_count": null,
   "metadata": {
    "collapsed": true
   },
   "outputs": [],
   "source": [
    "type(s)"
   ]
  },
  {
   "cell_type": "code",
   "execution_count": 3,
   "metadata": {},
   "outputs": [
    {
     "ename": "NameError",
     "evalue": "name 'path' is not defined",
     "output_type": "error",
     "traceback": [
      "\u001b[0;31m---------------------------------------------------------------------------\u001b[0m",
      "\u001b[0;31mNameError\u001b[0m                                 Traceback (most recent call last)",
      "\u001b[0;32m<ipython-input-3-11c3a1fb6f7f>\u001b[0m in \u001b[0;36m<module>\u001b[0;34m()\u001b[0m\n\u001b[0;32m----> 1\u001b[0;31m \u001b[0mratings\u001b[0m \u001b[0;34m=\u001b[0m \u001b[0mpd\u001b[0m\u001b[0;34m.\u001b[0m\u001b[0mread_csv\u001b[0m\u001b[0;34m(\u001b[0m\u001b[0mpath\u001b[0m\u001b[0;34m+\u001b[0m\u001b[0;34m'ratings.csv'\u001b[0m\u001b[0;34m)\u001b[0m\u001b[0;34m\u001b[0m\u001b[0m\n\u001b[0m\u001b[1;32m      2\u001b[0m \u001b[0mratings\u001b[0m\u001b[0;34m.\u001b[0m\u001b[0mhead\u001b[0m\u001b[0;34m(\u001b[0m\u001b[0;34m)\u001b[0m\u001b[0;34m\u001b[0m\u001b[0m\n\u001b[1;32m      3\u001b[0m \u001b[0mnp\u001b[0m\u001b[0;34m.\u001b[0m\u001b[0marray\u001b[0m\u001b[0;34m(\u001b[0m \u001b[0mratings\u001b[0m\u001b[0;34m.\u001b[0m\u001b[0muserId\u001b[0m\u001b[0;34m.\u001b[0m\u001b[0munique\u001b[0m\u001b[0;34m(\u001b[0m\u001b[0;34m)\u001b[0m \u001b[0;34m)\u001b[0m\u001b[0;34m\u001b[0m\u001b[0m\n",
      "\u001b[0;31mNameError\u001b[0m: name 'path' is not defined"
     ]
    }
   ],
   "source": [
    "ratings = pd.read_csv(path+'ratings.csv')\n",
    "ratings.head()\n",
    "np.array( ratings.userId.unique() )"
   ]
  },
  {
   "cell_type": "code",
   "execution_count": null,
   "metadata": {
    "collapsed": true
   },
   "outputs": [],
   "source": [
    "movie_names = pd.read_csv(path+'movies.csv').set_index('movieId')['title']\n",
    "print(movie_names.index)"
   ]
  },
  {
   "cell_type": "code",
   "execution_count": null,
   "metadata": {
    "collapsed": true,
    "scrolled": true
   },
   "outputs": [],
   "source": [
    "a = pd.read_csv(path+'movies.csv').title"
   ]
  },
  {
   "cell_type": "code",
   "execution_count": null,
   "metadata": {
    "collapsed": true
   },
   "outputs": [],
   "source": [
    "print(a)"
   ]
  },
  {
   "cell_type": "code",
   "execution_count": 22,
   "metadata": {
    "collapsed": true
   },
   "outputs": [],
   "source": [
    "import tensorflow as tf"
   ]
  },
  {
   "cell_type": "code",
   "execution_count": 5,
   "metadata": {
    "collapsed": true
   },
   "outputs": [],
   "source": [
    "import pandas as pd\n",
    "import numpy as np"
   ]
  },
  {
   "cell_type": "code",
   "execution_count": 6,
   "metadata": {
    "collapsed": true
   },
   "outputs": [],
   "source": [
    "path = \"CS231n/assignment2/ml-latest-small/\""
   ]
  },
  {
   "cell_type": "code",
   "execution_count": 7,
   "metadata": {},
   "outputs": [
    {
     "data": {
      "text/html": [
       "<div>\n",
       "<style>\n",
       "    .dataframe thead tr:only-child th {\n",
       "        text-align: right;\n",
       "    }\n",
       "\n",
       "    .dataframe thead th {\n",
       "        text-align: left;\n",
       "    }\n",
       "\n",
       "    .dataframe tbody tr th {\n",
       "        vertical-align: top;\n",
       "    }\n",
       "</style>\n",
       "<table border=\"1\" class=\"dataframe\">\n",
       "  <thead>\n",
       "    <tr style=\"text-align: right;\">\n",
       "      <th></th>\n",
       "      <th>userId</th>\n",
       "      <th>movieId</th>\n",
       "      <th>rating</th>\n",
       "      <th>timestamp</th>\n",
       "    </tr>\n",
       "  </thead>\n",
       "  <tbody>\n",
       "    <tr>\n",
       "      <th>0</th>\n",
       "      <td>1</td>\n",
       "      <td>31</td>\n",
       "      <td>2.5</td>\n",
       "      <td>1260759144</td>\n",
       "    </tr>\n",
       "    <tr>\n",
       "      <th>1</th>\n",
       "      <td>1</td>\n",
       "      <td>1029</td>\n",
       "      <td>3.0</td>\n",
       "      <td>1260759179</td>\n",
       "    </tr>\n",
       "    <tr>\n",
       "      <th>2</th>\n",
       "      <td>1</td>\n",
       "      <td>1061</td>\n",
       "      <td>3.0</td>\n",
       "      <td>1260759182</td>\n",
       "    </tr>\n",
       "    <tr>\n",
       "      <th>3</th>\n",
       "      <td>1</td>\n",
       "      <td>1129</td>\n",
       "      <td>2.0</td>\n",
       "      <td>1260759185</td>\n",
       "    </tr>\n",
       "    <tr>\n",
       "      <th>4</th>\n",
       "      <td>1</td>\n",
       "      <td>1172</td>\n",
       "      <td>4.0</td>\n",
       "      <td>1260759205</td>\n",
       "    </tr>\n",
       "  </tbody>\n",
       "</table>\n",
       "</div>"
      ],
      "text/plain": [
       "   userId  movieId  rating   timestamp\n",
       "0       1       31     2.5  1260759144\n",
       "1       1     1029     3.0  1260759179\n",
       "2       1     1061     3.0  1260759182\n",
       "3       1     1129     2.0  1260759185\n",
       "4       1     1172     4.0  1260759205"
      ]
     },
     "execution_count": 7,
     "metadata": {},
     "output_type": "execute_result"
    }
   ],
   "source": [
    "ratings = pd.read_csv(path+'ratings.csv')\n",
    "ratings.head()"
   ]
  },
  {
   "cell_type": "code",
   "execution_count": 8,
   "metadata": {
    "collapsed": true
   },
   "outputs": [],
   "source": [
    "movie_names = pd.read_csv(path+'movies.csv').set_index('movieId')['title'].to_dict()"
   ]
  },
  {
   "cell_type": "code",
   "execution_count": 9,
   "metadata": {
    "collapsed": true
   },
   "outputs": [],
   "source": [
    "users = ratings.userId.unique()\n",
    "movies = ratings.movieId.unique()"
   ]
  },
  {
   "cell_type": "code",
   "execution_count": 10,
   "metadata": {
    "collapsed": true
   },
   "outputs": [],
   "source": [
    "userid2idx = {o:i for i,o in enumerate(users)}\n",
    "movieid2idx = {o:i for i,o in enumerate(movies)}"
   ]
  },
  {
   "cell_type": "code",
   "execution_count": 11,
   "metadata": {
    "collapsed": true
   },
   "outputs": [],
   "source": [
    "ratings.movieId = ratings.movieId.apply(lambda x: movieid2idx[x])\n",
    "ratings.userId = ratings.userId.apply(lambda x: userid2idx[x])"
   ]
  },
  {
   "cell_type": "code",
   "execution_count": 12,
   "metadata": {},
   "outputs": [
    {
     "data": {
      "text/plain": [
       "(671, 9066)"
      ]
     },
     "execution_count": 12,
     "metadata": {},
     "output_type": "execute_result"
    }
   ],
   "source": [
    "n_users = ratings.userId.nunique()\n",
    "n_movies = ratings.movieId.nunique()\n",
    "n_users, n_movies"
   ]
  },
  {
   "cell_type": "code",
   "execution_count": 13,
   "metadata": {
    "collapsed": true
   },
   "outputs": [],
   "source": [
    "n_factors = 50"
   ]
  },
  {
   "cell_type": "code",
   "execution_count": 14,
   "metadata": {
    "collapsed": true
   },
   "outputs": [],
   "source": [
    "np.random.seed = 42"
   ]
  },
  {
   "cell_type": "code",
   "execution_count": 15,
   "metadata": {
    "collapsed": true
   },
   "outputs": [],
   "source": [
    "msk = np.random.rand(len(ratings)) < 0.8\n",
    "trn = ratings[msk]\n",
    "val = ratings[~msk]"
   ]
  },
  {
   "cell_type": "code",
   "execution_count": 16,
   "metadata": {},
   "outputs": [
    {
     "name": "stdout",
     "output_type": "stream",
     "text": [
      "(100004, 4)\n",
      "(79721, 4)\n",
      "(20283, 4)\n"
     ]
    }
   ],
   "source": [
    "print( ratings.shape )\n",
    "print( trn.shape )\n",
    "print( val.shape )"
   ]
  },
  {
   "cell_type": "code",
   "execution_count": 17,
   "metadata": {},
   "outputs": [
    {
     "name": "stdout",
     "output_type": "stream",
     "text": [
      "[ True False]\n",
      "[False  True]\n"
     ]
    }
   ],
   "source": [
    "a = np.array([True,False])\n",
    "print(a)\n",
    "print(~a)"
   ]
  },
  {
   "cell_type": "code",
   "execution_count": 18,
   "metadata": {},
   "outputs": [
    {
     "name": "stdout",
     "output_type": "stream",
     "text": [
      "   userId  movieId  rating   timestamp\n",
      "0       0        0     2.5  1260759144\n",
      "1       0        1     3.0  1260759179\n",
      "2       0        2     3.0  1260759182\n",
      "4       0        4     4.0  1260759205\n",
      "5       0        5     2.0  1260759151\n",
      "\n",
      "0    0\n",
      "1    0\n",
      "2    0\n",
      "4    0\n",
      "5    0\n",
      "Name: userId, dtype: int64\n",
      "\n",
      "0    0\n",
      "1    1\n",
      "2    2\n",
      "4    4\n",
      "5    5\n",
      "Name: movieId, dtype: int64\n"
     ]
    }
   ],
   "source": [
    "print( trn.head() )\n",
    "print()\n",
    "print( trn.userId.head() )\n",
    "print()\n",
    "print( trn.movieId.head() )"
   ]
  },
  {
   "cell_type": "code",
   "execution_count": 19,
   "metadata": {},
   "outputs": [
    {
     "name": "stdout",
     "output_type": "stream",
     "text": [
      "[0 1 2]\n"
     ]
    }
   ],
   "source": [
    "inp = np.array( trn.movieId )\n",
    "print( inp[:3])"
   ]
  },
  {
   "cell_type": "code",
   "execution_count": 20,
   "metadata": {
    "collapsed": true
   },
   "outputs": [],
   "source": [
    "import math"
   ]
  },
  {
   "cell_type": "code",
   "execution_count": null,
   "metadata": {
    "collapsed": true
   },
   "outputs": [],
   "source": [
    "tf.reset_default_graph()\n",
    "tf.set_random_seed(1)\n",
    "\n",
    "user_id = tf.placeholder(tf.int32, shape=[None] )\n",
    "movie_id = tf.placeholder(tf.int32, shape=[None] )\n",
    "rating =tf.placeholder(tf.float32, shape=[None] )\n",
    "\n",
    "reg = tf.contrib.layers.l2_regularizer(scale=1e-4)\n",
    "\n",
    "user_em = tf.get_variable(\"user_em\",shape = [n_users,n_factors] , regularizer=reg )\n",
    "movie_em = tf.get_variable(\"movie_em\",shape = [n_movies,n_factors], regularizer=reg )\n",
    "\n",
    "user_bi = tf.get_variable(\"bi1\",shape=[n_users],initializer=tf.zeros_initializer )\n",
    "movie_bi = tf.get_variable(\"bi2\",shape=[n_movies],initializer=tf.zeros_initializer )\n",
    "\n",
    "x = tf.nn.embedding_lookup( params=user_em , ids= user_id )\n",
    "y = tf.nn.embedding_lookup( params=movie_em , ids= movie_id )\n",
    "\n",
    "xx = tf.nn.embedding_lookup( params=user_bi , ids= user_id )\n",
    "yy = tf.nn.embedding_lookup( params=movie_bi , ids= movie_id )\n",
    "\n",
    "z = tf.reduce_sum( x*y , axis = 1 ) + xx + yy\n",
    "\n",
    "mean_loss = tf.losses.mean_squared_error(z,rating)\n",
    "final_loss = mean_loss + tf.losses.get_regularization_loss()\n",
    "\n",
    "train_op = tf.train.AdamOptimizer(0.001).minimize(final_loss)\n",
    "\n",
    "with tf.Session() as sess:\n",
    "    sess.run( tf.global_variables_initializer() )\n",
    "    \n",
    "    ui = np.array( trn.userId )\n",
    "    mi = np.array( trn.movieId )\n",
    "    rt = np.array( trn.rating )\n",
    "\n",
    "    batch_size = 64\n",
    "    \n",
    "    for e in range(10):\n",
    "        \n",
    "        train_indicies = np.arange(ui.shape[0])\n",
    "        np.random.shuffle(train_indicies)\n",
    "        for i in range(int(math.ceil(ui.shape[0]/batch_size))):\n",
    "            \n",
    "            start_idx = (i*batch_size)%ui.shape[0]\n",
    "            idx = train_indicies[start_idx:start_idx+batch_size]\n",
    "            \n",
    "            feed_dict={user_id: ui[idx] , movie_id: mi[idx] ,rating: rt[idx] } \n",
    "       \n",
    "            _,loss = sess.run([ train_op , mean_loss ] ,feed_dict=feed_dict)\n",
    "        \n",
    "        print( sess.run( final_loss , feed_dict={user_id: ui , movie_id: mi ,rating: rt } ) )"
   ]
  },
  {
   "cell_type": "code",
   "execution_count": 30,
   "metadata": {},
   "outputs": [
    {
     "name": "stdout",
     "output_type": "stream",
     "text": [
      "0.744558\n",
      "0.674704\n",
      "0.643131\n",
      "0.615137\n",
      "0.597676\n",
      "0.571575\n",
      "0.529277\n",
      "0.499136\n",
      "0.472052\n",
      "0.430214\n"
     ]
    }
   ],
   "source": [
    "tf.reset_default_graph()\n",
    "tf.set_random_seed(1)\n",
    "\n",
    "user_id = tf.placeholder(tf.int32, shape=[None] )\n",
    "movie_id = tf.placeholder(tf.int32, shape=[None] )\n",
    "rating =tf.placeholder(tf.float32, shape=[None] )\n",
    "\n",
    "\n",
    "user_em = tf.get_variable(\"user_em\",shape = [n_users,n_factors]  )\n",
    "movie_em = tf.get_variable(\"movie_em\",shape = [n_movies,n_factors] )\n",
    "\n",
    "user_bi = tf.get_variable(\"bi1\",shape=[n_users],initializer=tf.zeros_initializer )\n",
    "movie_bi = tf.get_variable(\"bi2\",shape=[n_movies],initializer=tf.zeros_initializer )\n",
    "\n",
    "x = tf.nn.embedding_lookup( params=user_em , ids= user_id )\n",
    "y = tf.nn.embedding_lookup( params=movie_em , ids= movie_id )\n",
    "\n",
    "z = tf.concat( [x,y] , axis=1 )\n",
    "z = tf.layers.dropout( z,0.2 )\n",
    "\n",
    "z = tf.layers.dense( z , 70 , activation=tf.nn.relu )\n",
    "z = tf.layers.dropout( z,0.75 )\n",
    "\n",
    "z = tf.layers.dense( z , 1 )\n",
    "z = tf.reshape(z , [-1])\n",
    "\n",
    "final_loss = tf.losses.mean_squared_error(z,rating)\n",
    "\n",
    "train_op = tf.train.AdamOptimizer(0.001).minimize(final_loss)\n",
    "\n",
    "with tf.Session() as sess:\n",
    "    sess.run( tf.global_variables_initializer() )\n",
    "    \n",
    "    ui = np.array( trn.userId )\n",
    "    mi = np.array( trn.movieId )\n",
    "    rt = np.array( trn.rating )\n",
    "\n",
    "#     feed_dict={user_id: ui , movie_id: mi ,rating: rt }   \n",
    "    batch_size = 64\n",
    "#     q,w = sess.run( [z,rating] , feed_dict=feed_dict)\n",
    "#     print( q.shape , w.shape )\n",
    "    \n",
    "    for e in range(10):\n",
    "        \n",
    "        train_indicies = np.arange(ui.shape[0])\n",
    "        np.random.shuffle(train_indicies)\n",
    "        for i in range(int(math.ceil(ui.shape[0]/batch_size))):\n",
    "            \n",
    "            start_idx = (i*batch_size)%ui.shape[0]\n",
    "            idx = train_indicies[start_idx:start_idx+batch_size]\n",
    "            \n",
    "            feed_dict={user_id: ui[idx] , movie_id: mi[idx] ,rating: rt[idx] } \n",
    "       \n",
    "            _ = sess.run([ train_op ] ,feed_dict=feed_dict)\n",
    "        \n",
    "        print( sess.run( final_loss , feed_dict={user_id: ui , movie_id: mi ,rating: rt } ) )"
   ]
  }
 ],
 "metadata": {
  "kernelspec": {
   "display_name": "Python 3",
   "language": "python",
   "name": "python3"
  },
  "language_info": {
   "codemirror_mode": {
    "name": "ipython",
    "version": 3
   },
   "file_extension": ".py",
   "mimetype": "text/x-python",
   "name": "python",
   "nbconvert_exporter": "python",
   "pygments_lexer": "ipython3",
   "version": "3.6.1"
  }
 },
 "nbformat": 4,
 "nbformat_minor": 2
}
